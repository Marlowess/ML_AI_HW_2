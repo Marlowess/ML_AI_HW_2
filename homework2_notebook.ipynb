{
 "cells": [
  {
   "cell_type": "markdown",
   "metadata": {},
   "source": [
    "# Machine Learning and Artificial Intelligence\n",
    "## Stefano Brilli s249914 - homework 2"
   ]
  },
  {
   "cell_type": "markdown",
   "metadata": {},
   "source": [
    "## 1 Analysis definition\n",
    "This time we will use another tool for classification, called Support Vector Machine.\n",
    "\n",
    "### 1.1 SVM briefly explanation\n",
    "SVM is an algorithm for classifying data that use the concept of margin to separate data in space.\n",
    "The objective is to find the hyperplane that better separate data and, at the same, compute the margin parameters that maximize the distance between data of different classes.\n",
    "The concept is the same as the perceptron: finding the hyperplane that separate data, but there's a big difference. In SVM, just few points are important for determining the hyperplane while we have to consider all points when we use the perceptron algorithm. We call these points support vectors, and they stay on the margin.\n",
    "There are more way to find the margins. A quick explanation is provided in two next subchapter.\n"
   ]
  },
  {
   "cell_type": "markdown",
   "metadata": {},
   "source": [
    "### 1.1.1 Large Margin Separation\n",
    "If our data can be perfectly separated using a hyperplane, then there exists an infinte number of such hyperplanes.\n",
    "We have to decide which of these hyperplanes we want to use to separate data.\n",
    "A natural choice is the large margin separation (also called maximal margin separation), which is the separating hyperplane that is farthest from the training observations. The m"
   ]
  },
  {
   "cell_type": "markdown",
   "metadata": {},
   "source": [
    "### 1.1.2 Soft Margin Separation\n",
    "Using this kink of separation we allow some"
   ]
  },
  {
   "cell_type": "markdown",
   "metadata": {},
   "source": [
    "### 1.2 The dataset\n",
    "Our analysis will be performed on the iris data, available at https://archive.ics.uci.edu/ml/datasets/iris or by importing the data sets library from sklearn, that contains many useful datasets.\n",
    "The data set contains 3 classes of 50 instances each, where each class refers to a type of iris plant."
   ]
  },
  {
   "cell_type": "markdown",
   "metadata": {},
   "source": [
    "### 1.3 Linear and non-linear SVM\n",
    "As we will see in next chapers it's not always possible to find a linear separation between data. Other times it's better to compute a non-linear separation to optimize our separation model. In this homework we will use both a linear kernel and non linear one. "
   ]
  },
  {
   "cell_type": "markdown",
   "metadata": {},
   "source": [
    "### 1.3 Tools used\n",
    "As for the previous homework, we will use the Python language to complete the analysis and sklearn libraries (http://scikit-learn.org/stable/documentation.html)."
   ]
  },
  {
   "cell_type": "code",
   "execution_count": null,
   "metadata": {},
   "outputs": [],
   "source": [
    "import numpy as np\n",
    "from sklearn.svm import SVC\n",
    "from sklearn import datasets, svm\n",
    "import matplotlib.pyplot as plt\n",
    "from sklearn.model_selection import train_test_split\n",
    "from sklearn.preprocessing import StandardScaler\n",
    "from sklearn.model_selection import GridSearchCV\n",
    "from sklearn.metrics import classification_report\n",
    "from tabulate import tabulate"
   ]
  },
  {
   "cell_type": "code",
   "execution_count": null,
   "metadata": {},
   "outputs": [],
   "source": [
    "# This function load the iris dataset in memory and gets just the first two dimensions\n",
    "def loadData():\n",
    "    iris = datasets.load_iris()\n",
    "    X = iris.data[:, :2]\n",
    "    y = iris.target\n",
    "    return X, y"
   ]
  },
  {
   "cell_type": "code",
   "execution_count": null,
   "metadata": {},
   "outputs": [],
   "source": []
  }
 ],
 "metadata": {
  "kernelspec": {
   "display_name": "Python 3",
   "language": "python",
   "name": "python3"
  },
  "language_info": {
   "codemirror_mode": {
    "name": "ipython",
    "version": 3
   },
   "file_extension": ".py",
   "mimetype": "text/x-python",
   "name": "python",
   "nbconvert_exporter": "python",
   "pygments_lexer": "ipython3",
   "version": "3.7.0"
  }
 },
 "nbformat": 4,
 "nbformat_minor": 2
}
