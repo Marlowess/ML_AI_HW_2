{
 "cells": [
  {
   "cell_type": "markdown",
   "metadata": {},
   "source": [
    "# Machine Learning and Artificial Intelligence\n",
    "## Stefano Brilli s249914 - homework 2"
   ]
  },
  {
   "cell_type": "markdown",
   "metadata": {},
   "source": [
    "## 1 Analysis definition\n",
    "In this homework we will use another tool for classification, called Support Vector Machine, in order to classify flowers according to their features. The dataset is presented in one of the next chapters."
   ]
  },
  {
   "cell_type": "markdown",
   "metadata": {},
   "source": [
    "### 1.1 Definition of hyperplane\n",
    "In a p-dimensional space, a hyperplane is a flat affine subspace of dimension p-1 (the word affine indicates that the subspace need not pass through the origin).\n",
    "In three dimensions, a hyperplane is a flat two-dimensional subspace, that is a plane.\n",
    "In two dimensions it's a line. The mathematical definition of a hyperplane is quite simple. In two dimensione, a hyperplane is defined by the equation {{r'\\beta_{0}+\\beta_{1}X_{1}-X_{2}=0'}}"
   ]
  },
  {
   "cell_type": "code",
   "execution_count": 7,
   "metadata": {},
   "outputs": [
    {
     "data": {
      "text/latex": [
       "$\\displaystyle \\beta_{0}+\\beta_{1}X_{1}-X_{2}=0$"
      ],
      "text/plain": [
       "<IPython.core.display.Math object>"
      ]
     },
     "execution_count": 7,
     "metadata": {},
     "output_type": "execute_result"
    }
   ],
   "source": [
    "Math(r'\\beta_{0}+\\beta_{1}X_{1}-X_{2}=0')"
   ]
  },
  {
   "cell_type": "markdown",
   "metadata": {},
   "source": [
    "### 1.2 SVM briefly explanation\n",
    "SVM is a supervised algorithm used for classifying data belonging to two or more classes. The objective is to find the hyperplane that separates well data.\n",
    "It means that for each point we want to assign it a label according to what side it belongs to. "
   ]
  },
  {
   "cell_type": "markdown",
   "metadata": {},
   "source": [
    "#### 1.2.1 Large Margin Separation\n",
    "If our data can be perfectly separated using a hyperplane, then there exists an infinte number of such hyperplanes.\n",
    "We have to decide which of these hyperplanes we want to use to separate data.\n",
    "A natural choice is the <i>large margin separation</i> (also called <i>maximal margin separation</i>), which is the separating hyperplane so that the distance between two point groups is as large as possible."
   ]
  },
  {
   "cell_type": "markdown",
   "metadata": {},
   "source": [
    "#### 1.2.2 Soft Margin Separation\n",
    "In order to get a greater robustness to individual observations and obtain a better classification of most of the training observations, we can fit the model by using a soft margin classifier.\n",
    "The idea here is: rather than seeking the largest possible margin so that every observation is not only on the correct side of the hyperplane but also on the correct side of the margin, we instead allow some observations to be on the incorrect side of the margin, or even the incorrect side of the hyperplane. The margin is called soft because it can be violated by some of the training observations."
   ]
  },
  {
   "cell_type": "markdown",
   "metadata": {},
   "source": [
    "### 1.3 The dataset\n",
    "Our analysis will be performed on the iris data, available at https://archive.ics.uci.edu/ml/datasets/iris or by importing the data sets library from sklearn, that contains many useful datasets.\n",
    "The data set contains 3 classes and 50 instances for each one, where each class refers to a type of iris plant.\n",
    "The classes are:\n",
    "<table style=\"border: 1px solid black;\">\n",
    "    <tr>\n",
    "        <th style=\"border: 1px solid black\">Class 1</th>\n",
    "        <th style=\"border: 1px solid black;\">Class 2</th>\n",
    "        <th style=\"border: 1px solid black;\">Class 3</th>\n",
    "    </tr>\n",
    "    <tr>\n",
    "        <td style=\"border: 1px solid black;\">Iris-setosa</th>\n",
    "        <td style=\"border: 1px solid black;\">Iris-versicolor</th>\n",
    "        <td style=\"border: 1px solid black;\">Iris-virginica</th>\n",
    "    </tr>\n",
    "    <tr>\n",
    "        <td style=\"border: 1px solid black;\">[0]</th>\n",
    "        <td style=\"border: 1px solid black;\">[1]</th>\n",
    "        <td style=\"border: 1px solid black;\">[2]</th>\n",
    "    </tr>\n",
    "</table>\n",
    "\n",
    "For simplicity we will use just two features of the dataset: <i>sepal length in cm</i> and <i>sepal width in cm</i>."
   ]
  },
  {
   "cell_type": "markdown",
   "metadata": {},
   "source": [
    "### 1.4 Linear and non-linear SVM\n",
    "As we will see in next chapers it's not always possible to find a linear separation between data. Other times it's better to compute a non-linear separation to optimize our separation model. In this homework we will use both a linear kernel and non linear one. "
   ]
  },
  {
   "cell_type": "markdown",
   "metadata": {},
   "source": [
    "### 1.5 Tools used\n",
    "As for the previous homework, we will use the Python language to complete the analysis and sklearn libraries (http://scikit-learn.org/stable/documentation.html)."
   ]
  },
  {
   "cell_type": "code",
   "execution_count": 2,
   "metadata": {},
   "outputs": [],
   "source": [
    "import numpy as np\n",
    "from sklearn.svm import SVC\n",
    "from sklearn import datasets, svm\n",
    "import matplotlib.pyplot as plt\n",
    "from sklearn.model_selection import train_test_split\n",
    "from sklearn.preprocessing import StandardScaler\n",
    "from sklearn.model_selection import GridSearchCV\n",
    "from sklearn.metrics import classification_report\n",
    "from tabulate import tabulate\n",
    "from IPython.display import Math"
   ]
  },
  {
   "cell_type": "code",
   "execution_count": 1,
   "metadata": {},
   "outputs": [],
   "source": [
    "# This function load the iris dataset in memory and gets just the first two dimensions\n",
    "def loadData():\n",
    "    iris = datasets.load_iris()\n",
    "    X = iris.data[:, :2]\n",
    "    y = iris.target\n",
    "    return X, y"
   ]
  }
 ],
 "metadata": {
  "kernelspec": {
   "display_name": "Python 3",
   "language": "python",
   "name": "python3"
  },
  "language_info": {
   "codemirror_mode": {
    "name": "ipython",
    "version": 3
   },
   "file_extension": ".py",
   "mimetype": "text/x-python",
   "name": "python",
   "nbconvert_exporter": "python",
   "pygments_lexer": "ipython3",
   "version": "3.6.7"
  }
 },
 "nbformat": 4,
 "nbformat_minor": 2
}
